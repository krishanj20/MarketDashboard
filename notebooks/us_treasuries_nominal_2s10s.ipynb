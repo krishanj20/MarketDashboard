{
 "cells": [
  {
   "cell_type": "markdown",
   "id": "29f42971-6acf-4824-9f01-52bf0f25c4c2",
   "metadata": {},
   "source": [
    "# US Treasury Data"
   ]
  },
  {
   "cell_type": "code",
   "execution_count": 21,
   "id": "fe3b0f38-8fc0-44fd-9d41-53bd08e9c835",
   "metadata": {
    "tags": []
   },
   "outputs": [],
   "source": [
    "import pandas as pd\n",
    "import pandas_datareader as pdr\n",
    "import pandas_datareader as pdr\n",
    "import plotly.graph_objects as go\n",
    "import plotly.express as px"
   ]
  },
  {
   "cell_type": "code",
   "execution_count": 22,
   "id": "b7d779c9-34d3-4df4-b874-3a27629ab550",
   "metadata": {
    "tags": []
   },
   "outputs": [
    {
     "name": "stdout",
     "output_type": "stream",
     "text": [
      "rates as at: 2023-05-31 00:00:00\n"
     ]
    }
   ],
   "source": [
    "# Get US Treasury Rates from FRED\n",
    "\n",
    "start = '2000-01-01'\n",
    "tickers = ['GS30','GS10','GS5','GS3','GS2','GS1','GS6m','GS3m']\n",
    "treasury_df = pdr.get_data_fred(tickers,start)\n",
    "treasury_df.columns=['30Y','10Y','5Y','3Y','2Y','1Y','6M','3M']\n",
    "treasury_df.dropna(inplace=True)\n",
    "# Changing format from 1st day of the month to last day of the month\n",
    "treasury_df.index = treasury_df.index + pd.offsets.MonthEnd(0)\n",
    "print(f'rates as at: {treasury_df.index[-1]}')"
   ]
  },
  {
   "cell_type": "code",
   "execution_count": 23,
   "id": "83955383-1cf0-4f01-9f33-af2fb91ac056",
   "metadata": {
    "tags": []
   },
   "outputs": [
    {
     "name": "stdout",
     "output_type": "stream",
     "text": [
      "<class 'pandas.core.frame.DataFrame'>\n",
      "DatetimeIndex: 281 entries, 2000-01-31 to 2023-05-31\n",
      "Data columns (total 8 columns):\n",
      " #   Column  Non-Null Count  Dtype  \n",
      "---  ------  --------------  -----  \n",
      " 0   30Y     281 non-null    float64\n",
      " 1   10Y     281 non-null    float64\n",
      " 2   5Y      281 non-null    float64\n",
      " 3   3Y      281 non-null    float64\n",
      " 4   2Y      281 non-null    float64\n",
      " 5   1Y      281 non-null    float64\n",
      " 6   6M      281 non-null    float64\n",
      " 7   3M      281 non-null    float64\n",
      "dtypes: float64(8)\n",
      "memory usage: 19.8 KB\n"
     ]
    }
   ],
   "source": [
    "treasury_df.info()"
   ]
  },
  {
   "cell_type": "code",
   "execution_count": 24,
   "id": "3c7ccb78-602f-4f1d-b9ed-5dca565d9954",
   "metadata": {
    "tags": []
   },
   "outputs": [
    {
     "data": {
      "application/vnd.jupyter.widget-view+json": {
       "model_id": "4491849802eb432aa489d7bd68ccfb49",
       "version_major": 2,
       "version_minor": 0
      },
      "text/plain": [
       "FigureWidget({\n",
       "    'data': [{'colorscale': [[0.0, 'rgb(103,0,31)'], [0.1, 'rgb(178,24,43)'],\n",
       "                             [0.2, 'rgb(214,96,77)'], [0.3, 'rgb(244,165,130)'],\n",
       "                             [0.4, 'rgb(253,219,199)'], [0.5, 'rgb(247,247,247)'],\n",
       "                             [0.6, 'rgb(209,229,240)'], [0.7, 'rgb(146,197,222)'],\n",
       "                             [0.8, 'rgb(67,147,195)'], [0.9, 'rgb(33,102,172)'],\n",
       "                             [1.0, 'rgb(5,48,97)']],\n",
       "              'connectgaps': True,\n",
       "              'opacity': 0.95,\n",
       "              'reversescale': True,\n",
       "              'showscale': True,\n",
       "              'type': 'surface',\n",
       "              'uid': '296a2fe9-2217-40f7-a7a3-9d9ce818fda1',\n",
       "              'x': array(['30Y', '10Y', '5Y', '3Y', '2Y', '1Y', '6M', '3M'], dtype=object),\n",
       "              'y': array([datetime.datetime(2000, 1, 31, 0, 0),\n",
       "                          datetime.datetime(2000, 2, 29, 0, 0),\n",
       "                          datetime.datetime(2000, 3, 31, 0, 0), ...,\n",
       "                          datetime.datetime(2023, 3, 31, 0, 0),\n",
       "                          datetime.datetime(2023, 4, 30, 0, 0),\n",
       "                          datetime.datetime(2023, 5, 31, 0, 0)], dtype=object),\n",
       "              'z': array([[6.63, 6.66, 6.58, ..., 6.12, 5.76, 5.5 ],\n",
       "                          [6.23, 6.52, 6.68, ..., 6.22, 6.  , 5.73],\n",
       "                          [6.05, 6.26, 6.5 , ..., 6.22, 6.11, 5.86],\n",
       "                          ...,\n",
       "                          [3.77, 3.66, 3.82, ..., 4.68, 4.99, 4.86],\n",
       "                          [3.68, 3.46, 3.54, ..., 4.68, 4.99, 5.07],\n",
       "                          [3.86, 3.57, 3.59, ..., 4.91, 5.27, 5.31]])}],\n",
       "    'layout': {'template': '...'}\n",
       "})"
      ]
     },
     "execution_count": 24,
     "metadata": {},
     "output_type": "execute_result"
    }
   ],
   "source": [
    "   fig = go.FigureWidget(data=[go.Surface(x=treasury_df.columns,\n",
    "                                    y=treasury_df.index,\n",
    "                                    z=treasury_df.values,\n",
    "                                    opacity=0.95,\n",
    "                                    connectgaps=True,\n",
    "                                    colorscale='rdbu',\n",
    "                                    showscale=True,\n",
    "                                    reversescale=True,\n",
    "                                    )\n",
    "                        ]\n",
    "                )\n",
    "fig\n"
   ]
  },
  {
   "cell_type": "code",
   "execution_count": 25,
   "id": "984d5675-bef9-4fff-b672-2d9a81cbc25d",
   "metadata": {},
   "outputs": [
    {
     "data": {
      "text/html": [
       "<div>\n",
       "<style scoped>\n",
       "    .dataframe tbody tr th:only-of-type {\n",
       "        vertical-align: middle;\n",
       "    }\n",
       "\n",
       "    .dataframe tbody tr th {\n",
       "        vertical-align: top;\n",
       "    }\n",
       "\n",
       "    .dataframe thead th {\n",
       "        text-align: right;\n",
       "    }\n",
       "</style>\n",
       "<table border=\"1\" class=\"dataframe\">\n",
       "  <thead>\n",
       "    <tr style=\"text-align: right;\">\n",
       "      <th></th>\n",
       "      <th>30Y</th>\n",
       "      <th>10Y</th>\n",
       "      <th>5Y</th>\n",
       "      <th>3Y</th>\n",
       "      <th>2Y</th>\n",
       "      <th>1Y</th>\n",
       "      <th>6M</th>\n",
       "      <th>3M</th>\n",
       "      <th>10_v_2</th>\n",
       "    </tr>\n",
       "    <tr>\n",
       "      <th>DATE</th>\n",
       "      <th></th>\n",
       "      <th></th>\n",
       "      <th></th>\n",
       "      <th></th>\n",
       "      <th></th>\n",
       "      <th></th>\n",
       "      <th></th>\n",
       "      <th></th>\n",
       "      <th></th>\n",
       "    </tr>\n",
       "  </thead>\n",
       "  <tbody>\n",
       "    <tr>\n",
       "      <th>2000-01-31</th>\n",
       "      <td>6.63</td>\n",
       "      <td>6.66</td>\n",
       "      <td>6.58</td>\n",
       "      <td>6.49</td>\n",
       "      <td>6.44</td>\n",
       "      <td>6.12</td>\n",
       "      <td>5.76</td>\n",
       "      <td>5.50</td>\n",
       "      <td>0.22</td>\n",
       "    </tr>\n",
       "    <tr>\n",
       "      <th>2000-02-29</th>\n",
       "      <td>6.23</td>\n",
       "      <td>6.52</td>\n",
       "      <td>6.68</td>\n",
       "      <td>6.65</td>\n",
       "      <td>6.61</td>\n",
       "      <td>6.22</td>\n",
       "      <td>6.00</td>\n",
       "      <td>5.73</td>\n",
       "      <td>-0.09</td>\n",
       "    </tr>\n",
       "    <tr>\n",
       "      <th>2000-03-31</th>\n",
       "      <td>6.05</td>\n",
       "      <td>6.26</td>\n",
       "      <td>6.50</td>\n",
       "      <td>6.53</td>\n",
       "      <td>6.53</td>\n",
       "      <td>6.22</td>\n",
       "      <td>6.11</td>\n",
       "      <td>5.86</td>\n",
       "      <td>-0.27</td>\n",
       "    </tr>\n",
       "    <tr>\n",
       "      <th>2000-04-30</th>\n",
       "      <td>5.85</td>\n",
       "      <td>5.99</td>\n",
       "      <td>6.26</td>\n",
       "      <td>6.36</td>\n",
       "      <td>6.40</td>\n",
       "      <td>6.15</td>\n",
       "      <td>6.07</td>\n",
       "      <td>5.82</td>\n",
       "      <td>-0.41</td>\n",
       "    </tr>\n",
       "    <tr>\n",
       "      <th>2000-05-31</th>\n",
       "      <td>6.15</td>\n",
       "      <td>6.44</td>\n",
       "      <td>6.69</td>\n",
       "      <td>6.77</td>\n",
       "      <td>6.81</td>\n",
       "      <td>6.33</td>\n",
       "      <td>6.39</td>\n",
       "      <td>5.99</td>\n",
       "      <td>-0.37</td>\n",
       "    </tr>\n",
       "    <tr>\n",
       "      <th>...</th>\n",
       "      <td>...</td>\n",
       "      <td>...</td>\n",
       "      <td>...</td>\n",
       "      <td>...</td>\n",
       "      <td>...</td>\n",
       "      <td>...</td>\n",
       "      <td>...</td>\n",
       "      <td>...</td>\n",
       "      <td>...</td>\n",
       "    </tr>\n",
       "    <tr>\n",
       "      <th>2023-01-31</th>\n",
       "      <td>3.66</td>\n",
       "      <td>3.53</td>\n",
       "      <td>3.64</td>\n",
       "      <td>3.91</td>\n",
       "      <td>4.21</td>\n",
       "      <td>4.69</td>\n",
       "      <td>4.80</td>\n",
       "      <td>4.69</td>\n",
       "      <td>-0.68</td>\n",
       "    </tr>\n",
       "    <tr>\n",
       "      <th>2023-02-28</th>\n",
       "      <td>3.80</td>\n",
       "      <td>3.75</td>\n",
       "      <td>3.94</td>\n",
       "      <td>4.23</td>\n",
       "      <td>4.53</td>\n",
       "      <td>4.93</td>\n",
       "      <td>4.97</td>\n",
       "      <td>4.79</td>\n",
       "      <td>-0.78</td>\n",
       "    </tr>\n",
       "    <tr>\n",
       "      <th>2023-03-31</th>\n",
       "      <td>3.77</td>\n",
       "      <td>3.66</td>\n",
       "      <td>3.82</td>\n",
       "      <td>4.09</td>\n",
       "      <td>4.30</td>\n",
       "      <td>4.68</td>\n",
       "      <td>4.99</td>\n",
       "      <td>4.86</td>\n",
       "      <td>-0.64</td>\n",
       "    </tr>\n",
       "    <tr>\n",
       "      <th>2023-04-30</th>\n",
       "      <td>3.68</td>\n",
       "      <td>3.46</td>\n",
       "      <td>3.54</td>\n",
       "      <td>3.76</td>\n",
       "      <td>4.02</td>\n",
       "      <td>4.68</td>\n",
       "      <td>4.99</td>\n",
       "      <td>5.07</td>\n",
       "      <td>-0.56</td>\n",
       "    </tr>\n",
       "    <tr>\n",
       "      <th>2023-05-31</th>\n",
       "      <td>3.86</td>\n",
       "      <td>3.57</td>\n",
       "      <td>3.59</td>\n",
       "      <td>3.82</td>\n",
       "      <td>4.13</td>\n",
       "      <td>4.91</td>\n",
       "      <td>5.27</td>\n",
       "      <td>5.31</td>\n",
       "      <td>-0.56</td>\n",
       "    </tr>\n",
       "  </tbody>\n",
       "</table>\n",
       "<p>281 rows × 9 columns</p>\n",
       "</div>"
      ],
      "text/plain": [
       "             30Y   10Y    5Y    3Y    2Y    1Y    6M    3M  10_v_2\n",
       "DATE                                                              \n",
       "2000-01-31  6.63  6.66  6.58  6.49  6.44  6.12  5.76  5.50    0.22\n",
       "2000-02-29  6.23  6.52  6.68  6.65  6.61  6.22  6.00  5.73   -0.09\n",
       "2000-03-31  6.05  6.26  6.50  6.53  6.53  6.22  6.11  5.86   -0.27\n",
       "2000-04-30  5.85  5.99  6.26  6.36  6.40  6.15  6.07  5.82   -0.41\n",
       "2000-05-31  6.15  6.44  6.69  6.77  6.81  6.33  6.39  5.99   -0.37\n",
       "...          ...   ...   ...   ...   ...   ...   ...   ...     ...\n",
       "2023-01-31  3.66  3.53  3.64  3.91  4.21  4.69  4.80  4.69   -0.68\n",
       "2023-02-28  3.80  3.75  3.94  4.23  4.53  4.93  4.97  4.79   -0.78\n",
       "2023-03-31  3.77  3.66  3.82  4.09  4.30  4.68  4.99  4.86   -0.64\n",
       "2023-04-30  3.68  3.46  3.54  3.76  4.02  4.68  4.99  5.07   -0.56\n",
       "2023-05-31  3.86  3.57  3.59  3.82  4.13  4.91  5.27  5.31   -0.56\n",
       "\n",
       "[281 rows x 9 columns]"
      ]
     },
     "execution_count": 25,
     "metadata": {},
     "output_type": "execute_result"
    }
   ],
   "source": [
    "treasury_df[\"10_v_2\"] = (treasury_df[\"10Y\"]- treasury_df[\"2Y\"])\n",
    "treasury_df"
   ]
  },
  {
   "cell_type": "code",
   "execution_count": 52,
   "id": "2ab398ea-a762-46e2-a552-74b062aad018",
   "metadata": {
    "tags": []
   },
   "outputs": [
    {
     "data": {
      "application/vnd.jupyter.widget-view+json": {
       "model_id": "c2b61f2c29814d6482ec209763e41f10",
       "version_major": 2,
       "version_minor": 0
      },
      "text/plain": [
       "FigureWidget({\n",
       "    'data': [{'marker': {'color': [green, red, red, ..., red, red, red]},\n",
       "              'mode': 'lines',\n",
       "              'type': 'scatter',\n",
       "              'uid': '35815666-72e2-49d4-8baf-080f778fa770',\n",
       "              'x': array([datetime.datetime(2000, 1, 31, 0, 0),\n",
       "                          datetime.datetime(2000, 2, 29, 0, 0),\n",
       "                          datetime.datetime(2000, 3, 31, 0, 0), ...,\n",
       "                          datetime.datetime(2023, 3, 31, 0, 0),\n",
       "                          datetime.datetime(2023, 4, 30, 0, 0),\n",
       "                          datetime.datetime(2023, 5, 31, 0, 0)], dtype=object),\n",
       "              'y': array([ 22.,  -9., -27., ..., -64., -56., -56.])}],\n",
       "    'layout': {'template': '...', 'yaxis': {'ticksuffix': ' bps', 'title': {'text': '10yr - 2yr Tsry Yield'}}}\n",
       "})"
      ]
     },
     "execution_count": 52,
     "metadata": {},
     "output_type": "execute_result"
    }
   ],
   "source": [
    "fig = go.FigureWidget(data=[go.Scatter(x=treasury_df.index,\n",
    "                                y=treasury_df[\"10_v_2\"] * 100,\n",
    "                                mode ='lines',\n",
    "                                )\n",
    "                    ]\n",
    "            )\n",
    "\n",
    "fig.update_layout(\n",
    "yaxis=dict(\n",
    "    title=\"10yr - 2yr Tsry Yield\",\n",
    "    ticksuffix=\" bps\"\n",
    ")\n",
    ")\n",
    "\n",
    "\n",
    "fig\n"
   ]
  },
  {
   "cell_type": "code",
   "execution_count": null,
   "id": "dc20c0ed-7beb-40e6-bdf7-57483dae34d6",
   "metadata": {},
   "outputs": [],
   "source": []
  }
 ],
 "metadata": {
  "kernelspec": {
   "display_name": "Python [conda env:MarketDashboard]",
   "language": "python",
   "name": "conda-env-MarketDashboard-py"
  },
  "language_info": {
   "codemirror_mode": {
    "name": "ipython",
    "version": 3
   },
   "file_extension": ".py",
   "mimetype": "text/x-python",
   "name": "python",
   "nbconvert_exporter": "python",
   "pygments_lexer": "ipython3",
   "version": "3.11.4"
  }
 },
 "nbformat": 4,
 "nbformat_minor": 5
}
